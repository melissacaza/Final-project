{
 "cells": [
  {
   "cell_type": "markdown",
   "id": "b8e88fff-5463-4f45-8882-c88970955c95",
   "metadata": {},
   "source": [
    "# Assignment 8 - File 1"
   ]
  },
  {
   "cell_type": "markdown",
   "id": "11e0ad11-8076-4460-a8b1-9d72423d1305",
   "metadata": {},
   "source": [
    "## Section 1"
   ]
  },
  {
   "cell_type": "markdown",
   "id": "49455f01-06f1-4ac6-b22c-d21fee1712b0",
   "metadata": {},
   "source": [
    "### Math equation of the mean"
   ]
  },
  {
   "cell_type": "markdown",
   "id": "83b4ed4a-386b-4c11-bc62-8e5310945dd8",
   "metadata": {},
   "source": [
    "'''{figure} mean.JPG \n",
    "---\n",
    "height: 300px\n",
    "name: Distribution of the mean\n",
    "---\n",
    "Representation of the distribution of the mean\n",
    "'''"
   ]
  },
  {
   "cell_type": "markdown",
   "id": "9e95174d-07aa-41ae-ac75-e517a9e6155d",
   "metadata": {},
   "source": [
    " ''' {figure} https://solarsystem.nasa.gov/system/resources/detail_files/2486_stsci-h-p1936a_1800.jpg\n",
    " ---\n",
    " height: 300px\n",
    " name: jupiter-figure\n",
    " ---\n",
    " The beautiful planet Jupiter!\n",
    "'''"
   ]
  },
  {
   "cell_type": "markdown",
   "id": "a8d8b4a1-78dc-480a-ad7f-4e64bf6dcb9c",
   "metadata": {},
   "source": [
    "$$\n",
    "\\bar{x} = \\frac {x_1 + x_2 +... + x_n}{n} \n",
    "$$"
   ]
  },
  {
   "cell_type": "code",
   "execution_count": 1,
   "id": "71a51dab-9892-487a-9559-609a0c2803b9",
   "metadata": {},
   "outputs": [
    {
     "name": "stdout",
     "output_type": "stream",
     "text": [
      "33.25\n"
     ]
    }
   ],
   "source": [
    "import numpy as np\n",
    "x=[14,28,39,52]\n",
    "print(np.mean(x))"
   ]
  },
  {
   "cell_type": "code",
   "execution_count": null,
   "id": "e2543356-aea8-4c75-abd4-5b149482a4e8",
   "metadata": {},
   "outputs": [],
   "source": []
  },
  {
   "cell_type": "code",
   "execution_count": null,
   "id": "01888903-bc0c-4596-9c34-975bb8c769f7",
   "metadata": {},
   "outputs": [],
   "source": []
  }
 ],
 "metadata": {
  "kernelspec": {
   "display_name": "Python 3 (ipykernel)",
   "language": "python",
   "name": "python3"
  },
  "language_info": {
   "codemirror_mode": {
    "name": "ipython",
    "version": 3
   },
   "file_extension": ".py",
   "mimetype": "text/x-python",
   "name": "python",
   "nbconvert_exporter": "python",
   "pygments_lexer": "ipython3",
   "version": "3.9.12"
  }
 },
 "nbformat": 4,
 "nbformat_minor": 5
}
